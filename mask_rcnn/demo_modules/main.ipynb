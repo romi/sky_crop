{
 "nbformat": 4,
 "nbformat_minor": 2,
 "metadata": {
  "language_info": {
   "name": "python",
   "codemirror_mode": {
    "name": "ipython",
    "version": 3
   },
   "version": "3.7.4-final"
  },
  "orig_nbformat": 2,
  "file_extension": ".py",
  "mimetype": "text/x-python",
  "name": "python",
  "npconvert_exporter": "python",
  "pygments_lexer": "ipython3",
  "version": 3,
  "kernelspec": {
   "name": "python37464bitmaskrcnnvirtualenv338587d538724641bfc8533af6088c49",
   "display_name": "Python 3.7.4 64-bit ('mask_rcnn': virtualenv)"
  }
 },
 "cells": [
  {
   "cell_type": "code",
   "execution_count": 5,
   "metadata": {},
   "outputs": [],
   "source": [
    "import os\n",
    "import align\n",
    "import crop\n",
    "import detect\n",
    "import assemble\n",
    "import cv2\n",
    "import imutils\n",
    "import copy\n",
    "import numpy as np\n",
    "import pandas as pd\n",
    "from PIL import Image"
   ]
  },
  {
   "cell_type": "code",
   "execution_count": 6,
   "metadata": {},
   "outputs": [],
   "source": [
    "\n",
    "class Scan:\n",
    "    def __init__(self, name):\n",
    "        self.name = name\n",
    "        self.dir = '{0}{1}/{1}_aligned_ps.png'.format(folder, self.name)\n",
    "\n",
    "    def pca_angle(self, filepath):\n",
    "        self.pca_angle, self.diagonal = align.pca_angle(filepath)\n",
    "        return self.pca_angle, self.diagonal\n",
    "\n",
    "    def align(self, filepath, angle, diagonal):\n",
    "        self.aligned = align.rotate_image(filepath, angle, diagonal)\n",
    "        return self.aligned\n",
    "\n",
    "    def crop(self, img):\n",
    "        self.cropped = crop.crop(img)\n",
    "        return self.cropped\n",
    "\n",
    "    def detect(self, img):\n",
    "        self.detected = detect.detect(img)\n",
    "        return self.detected\n",
    "\n",
    "    def assemble_points(self, points, ind_x, ind_y):\n",
    "        self.plant_coordinates = assemble.assemble_points(points, ind_x, ind_y)\n",
    "        return self.plant_coordinates\n",
    "\n",
    "    # def detected_img(self, img):\n",
    "        # return self.detected_crop\n"
   ]
  },
  {
   "cell_type": "code",
   "execution_count": null,
   "metadata": {},
   "outputs": [],
   "source": [
    "\n",
    "def is_date(s):\n",
    "    try:\n",
    "        int(s)\n",
    "        return True\n",
    "    except ValueError:\n",
    "        return False\n"
   ]
  },
  {
   "cell_type": "code",
   "execution_count": 12,
   "metadata": {},
   "outputs": [
    {
     "output_type": "execute_result",
     "data": {
      "text/plain": "['200305', '200310', '200315', '200320']"
     },
     "metadata": {},
     "execution_count": 12
    }
   ],
   "source": [
    "folder = '/Users/soroush/Desktop/Noumena/sky_crop_soroush/mask_rcnn/demo/scans/'\n",
    "folder_ls = os.listdir(folder)\n",
    "dates = []\n",
    "for dir in folder_ls:\n",
    "    if is_date(dir):\n",
    "        dates.append(dir)\n",
    "dates.sort()\n",
    "data = {}\n",
    "dates"
   ]
  },
  {
   "cell_type": "code",
   "execution_count": 13,
   "metadata": {},
   "outputs": [],
   "source": [
    "\n",
    "for date in dates:\n",
    "    if date == '200305':\n",
    "        plants = []\n",
    "        a = Scan(date)\n",
    "        # angle, diagonal = a.pca_angle(a.dir)\n",
    "        # aligned = a.align(a.dir, angle, diagonal)\n",
    "        aligned = cv2.imread(a.dir)\n",
    "        aligned\n",
    ""
   ]
  },
  {
   "cell_type": "code",
   "execution_count": null,
   "metadata": {},
   "outputs": [],
   "source": [
    " height, width = aligned.shape[:2]\n",
    "        cropped = a.crop(aligned)\n",
    "        plants_cor = np.zeros((1, 2), dtype=np.int32)\n",
    "        total_detected = copy.copy(aligned)\n",
    "        t = 0"
   ]
  },
  {
   "cell_type": "code",
   "execution_count": 9,
   "metadata": {},
   "outputs": [
    {
     "output_type": "stream",
     "name": "stdout",
     "text": "WARNING:tensorflow:From /Users/soroush/.virtualenvs/mask_rcnn/lib/python3.7/site-packages/tensorflow_core/python/ops/resource_variable_ops.py:1630: calling BaseResourceVariable.__init__ (from tensorflow.python.ops.resource_variable_ops) with constraint is deprecated and will be removed in a future version.\nInstructions for updating:\nIf using Keras pass *_constraint arguments to layers.\nWARNING:tensorflow:From /Users/soroush/.virtualenvs/mask_rcnn/lib/python3.7/site-packages/keras/backend/tensorflow_backend.py:4070: The name tf.nn.max_pool is deprecated. Please use tf.nn.max_pool2d instead.\n\nWARNING:tensorflow:From /Users/soroush/Desktop/Noumena/sky_crop/mask_rcnn/demo_modules/mrcnn/model.py:340: The name tf.log is deprecated. Please use tf.math.log instead.\n\nWARNING:tensorflow:From /Users/soroush/Desktop/Noumena/sky_crop/mask_rcnn/demo_modules/mrcnn/model.py:398: where (from tensorflow.python.ops.array_ops) is deprecated and will be removed in a future version.\nInstructions for updating:\nUse tf.where in 2.0, which has the same broadcast rule as np.where\nWARNING:tensorflow:From /Users/soroush/Desktop/Noumena/sky_crop/mask_rcnn/demo_modules/mrcnn/model.py:422: calling crop_and_resize_v1 (from tensorflow.python.ops.image_ops_impl) with box_ind is deprecated and will be removed in a future version.\nInstructions for updating:\nbox_ind is deprecated, use box_indices instead\nWARNING:tensorflow:From /Users/soroush/Desktop/Noumena/sky_crop/mask_rcnn/demo_modules/mrcnn/model.py:772: to_float (from tensorflow.python.ops.math_ops) is deprecated and will be removed in a future version.\nInstructions for updating:\nUse `tf.cast` instead.\nWARNING:tensorflow:From /Users/soroush/.virtualenvs/mask_rcnn/lib/python3.7/site-packages/keras/backend/tensorflow_backend.py:422: The name tf.global_variables is deprecated. Please use tf.compat.v1.global_variables instead.\n\n"
    }
   ],
   "source": [
    "        for i in cropped:\n",
    "            # only runs the code for first cropped image, remove this \"if\" part to get the full detected image\n",
    "            if t < 2:\n",
    "                t += 1\n",
    "                cell_x = int(i.split(',')[0])\n",
    "                cell_y = int(i.split(',')[1])\n",
    "                img = cropped[i]\n",
    "                img, cell_points = a.detect(img)\n",
    "                x_offset = img.shape[1] * cell_x\n",
    "                y_offset = img.shape[0] * cell_y\n",
    "                total_detected[y_offset:y_offset+img.shape[0],\n",
    "                                x_offset:x_offset+img.shape[1]] = img\n",
    "                pts = a.assemble_points(cell_points, cell_x, cell_y)\n",
    "                plants_cor = np.append(plants_cor, pts, axis=0)"
   ]
  },
  {
   "cell_type": "code",
   "execution_count": 11,
   "metadata": {},
   "outputs": [
    {
     "output_type": "execute_result",
     "data": {
      "text/plain": "                                              200305 200310 200315 200320\n0  [[1100, 556], [2395, 549], [2633, 332], [1759,...    NaN    NaN    NaN",
      "text/html": "<div>\n<style scoped>\n    .dataframe tbody tr th:only-of-type {\n        vertical-align: middle;\n    }\n\n    .dataframe tbody tr th {\n        vertical-align: top;\n    }\n\n    .dataframe thead th {\n        text-align: right;\n    }\n</style>\n<table border=\"1\" class=\"dataframe\">\n  <thead>\n    <tr style=\"text-align: right;\">\n      <th></th>\n      <th>200305</th>\n      <th>200310</th>\n      <th>200315</th>\n      <th>200320</th>\n    </tr>\n  </thead>\n  <tbody>\n    <tr>\n      <th>0</th>\n      <td>[[1100, 556], [2395, 549], [2633, 332], [1759,...</td>\n      <td>NaN</td>\n      <td>NaN</td>\n      <td>NaN</td>\n    </tr>\n  </tbody>\n</table>\n</div>"
     },
     "metadata": {},
     "execution_count": 11
    }
   ],
   "source": [
    "        plants_cor = plants_cor[1:, :]\n",
    "        total_detected = imutils.resize(total_detected, width=1200)\n",
    "        a.detected_crop = total_detected\n",
    "        cv2.imshow('total_detected', a.detected_crop)\n",
    "        cv2.waitKey(0)\n",
    "        cv2.destroyAllWindows()\n",
    "        data[a.name] = [plants_cor]\n",
    "dataframe = pd.DataFrame(data, columns=dates)\n",
    "dataframe"
   ]
  },
  {
   "cell_type": "code",
   "execution_count": null,
   "metadata": {},
   "outputs": [],
   "source": []
  }
 ]
}